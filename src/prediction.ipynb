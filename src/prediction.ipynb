{
 "cells": [
  {
   "cell_type": "markdown",
   "id": "3092cc09-1f1d-42f7-b67d-524605304a19",
   "metadata": {},
   "source": [
    "### Predict Tomorrow's price"
   ]
  },
  {
   "cell_type": "code",
   "execution_count": 21,
   "id": "0254a6d2-ada6-4f5c-bebb-a737c36fe39e",
   "metadata": {},
   "outputs": [],
   "source": [
    "# Importing needed packages\n",
    "import numpy as np\n",
    "import pandas as pd\n",
    "import requests\n",
    "from datetime import date, timedelta\n",
    "from sklearn.linear_model import LinearRegression"
   ]
  },
  {
   "cell_type": "code",
   "execution_count": 22,
   "id": "a0ecd6f2-b66c-499c-bbbd-062359eed387",
   "metadata": {},
   "outputs": [
    {
     "name": "stdin",
     "output_type": "stream",
     "text": [
      "Enter Id:  ethereum\n",
      "Enter vs_currency:  usd\n"
     ]
    }
   ],
   "source": [
    "# Getting cryptocurrency and vs_currency from the user\n",
    "crypto_id = input(\"Enter Id: \")\n",
    "vs_currency = input(\"Enter vs_currency: \")\n",
    "days = 60"
   ]
  },
  {
   "cell_type": "code",
   "execution_count": 27,
   "id": "721960c4-1073-4fc2-89ec-c564b66098c7",
   "metadata": {},
   "outputs": [
    {
     "data": {
      "text/html": [
       "<div>\n",
       "<style scoped>\n",
       "    .dataframe tbody tr th:only-of-type {\n",
       "        vertical-align: middle;\n",
       "    }\n",
       "\n",
       "    .dataframe tbody tr th {\n",
       "        vertical-align: top;\n",
       "    }\n",
       "\n",
       "    .dataframe thead th {\n",
       "        text-align: right;\n",
       "    }\n",
       "</style>\n",
       "<table border=\"1\" class=\"dataframe\">\n",
       "  <thead>\n",
       "    <tr style=\"text-align: right;\">\n",
       "      <th></th>\n",
       "      <th>Price</th>\n",
       "    </tr>\n",
       "  </thead>\n",
       "  <tbody>\n",
       "    <tr>\n",
       "      <th>2022-07-06</th>\n",
       "      <td>1141.428778</td>\n",
       "    </tr>\n",
       "    <tr>\n",
       "      <th>2022-07-05</th>\n",
       "      <td>1134.017070</td>\n",
       "    </tr>\n",
       "    <tr>\n",
       "      <th>2022-07-04</th>\n",
       "      <td>1153.348315</td>\n",
       "    </tr>\n",
       "    <tr>\n",
       "      <th>2022-07-03</th>\n",
       "      <td>1074.607318</td>\n",
       "    </tr>\n",
       "    <tr>\n",
       "      <th>2022-07-02</th>\n",
       "      <td>1068.541503</td>\n",
       "    </tr>\n",
       "  </tbody>\n",
       "</table>\n",
       "</div>"
      ],
      "text/plain": [
       "                  Price\n",
       "2022-07-06  1141.428778\n",
       "2022-07-05  1134.017070\n",
       "2022-07-04  1153.348315\n",
       "2022-07-03  1074.607318\n",
       "2022-07-02  1068.541503"
      ]
     },
     "execution_count": 27,
     "metadata": {},
     "output_type": "execute_result"
    }
   ],
   "source": [
    "req = requests.get(\"https://api.coingecko.com/api/v3/coins/%s/market_chart?vs_currency=%s&days=%s&interval=daily\" % (crypto_id, vs_currency, days-1))\n",
    "\n",
    "dates = pd.Series([date.today() - timedelta(days = day) for day in range(days)]) # Series of last 10 dates\n",
    "prices = pd.Series(reversed([price[1] for price in req.json()['prices']])) # Series of last 10 days prices\n",
    "\n",
    "crypto_df = pd.DataFrame(\n",
    "    {\n",
    "        'Price':prices,\n",
    "    },\n",
    ")\n",
    "crypto_df.index = dates\n",
    "crypto_df.head()"
   ]
  },
  {
   "cell_type": "code",
   "execution_count": 26,
   "id": "fc0fea25-6a85-45c9-910d-ecc0df5a2f22",
   "metadata": {},
   "outputs": [
    {
     "name": "stdout",
     "output_type": "stream",
     "text": [
      "Tomorrow's ethereum price will probably be around 915.5678285640292\n"
     ]
    }
   ],
   "source": [
    "x = np.arange(1, 61).reshape(-1, 1) # Input (1 to 60)\n",
    "y = (np.array(crypto_df['Price']).reshape(-1, 1))[::-1] # Output (price)\n",
    "\n",
    "# Prediction\n",
    "prediction = LinearRegression()\n",
    "prediction.fit(x, y)\n",
    "tomorrow_price = prediction.predict([[61]])\n",
    "\n",
    "print(\"Tomorrow's %s price will probably be around %s\" % (crypto_id, tomorrow_price[0][0]))"
   ]
  },
  {
   "cell_type": "code",
   "execution_count": null,
   "id": "1bf56b54-23b2-487b-a7ca-becc761cb563",
   "metadata": {},
   "outputs": [],
   "source": []
  }
 ],
 "metadata": {
  "kernelspec": {
   "display_name": "Python 3 (ipykernel)",
   "language": "python",
   "name": "python3"
  },
  "language_info": {
   "codemirror_mode": {
    "name": "ipython",
    "version": 3
   },
   "file_extension": ".py",
   "mimetype": "text/x-python",
   "name": "python",
   "nbconvert_exporter": "python",
   "pygments_lexer": "ipython3",
   "version": "3.8.10"
  }
 },
 "nbformat": 4,
 "nbformat_minor": 5
}
