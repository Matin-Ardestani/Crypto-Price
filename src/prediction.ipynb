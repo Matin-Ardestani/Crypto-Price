{
 "cells": [
  {
   "cell_type": "markdown",
   "id": "3092cc09-1f1d-42f7-b67d-524605304a19",
   "metadata": {},
   "source": [
    "### Predict Tomorrow's price"
   ]
  },
  {
   "cell_type": "code",
   "execution_count": 1,
   "id": "0254a6d2-ada6-4f5c-bebb-a737c36fe39e",
   "metadata": {},
   "outputs": [],
   "source": [
    "# Importing needed packages\n",
    "import numpy as np\n",
    "import pandas as pd\n",
    "import requests\n",
    "from datetime import date, timedelta\n",
    "from sklearn.linear_model import LinearRegression"
   ]
  },
  {
   "cell_type": "code",
   "execution_count": 2,
   "id": "a0ecd6f2-b66c-499c-bbbd-062359eed387",
   "metadata": {},
   "outputs": [
    {
     "name": "stdin",
     "output_type": "stream",
     "text": [
      "Enter Id:  bitcoin\n",
      "Enter vs_currency:  usd\n"
     ]
    }
   ],
   "source": [
    "# Getting cryptocurrency and vs_currency from the user\n",
    "crypto_id = input(\"Enter Id: \")\n",
    "vs_currency = input(\"Enter vs_currency: \")\n",
    "days = 60"
   ]
  },
  {
   "cell_type": "code",
   "execution_count": 3,
   "id": "721960c4-1073-4fc2-89ec-c564b66098c7",
   "metadata": {},
   "outputs": [
    {
     "data": {
      "text/html": [
       "<div>\n",
       "<style scoped>\n",
       "    .dataframe tbody tr th:only-of-type {\n",
       "        vertical-align: middle;\n",
       "    }\n",
       "\n",
       "    .dataframe tbody tr th {\n",
       "        vertical-align: top;\n",
       "    }\n",
       "\n",
       "    .dataframe thead th {\n",
       "        text-align: right;\n",
       "    }\n",
       "</style>\n",
       "<table border=\"1\" class=\"dataframe\">\n",
       "  <thead>\n",
       "    <tr style=\"text-align: right;\">\n",
       "      <th></th>\n",
       "      <th>Price</th>\n",
       "    </tr>\n",
       "  </thead>\n",
       "  <tbody>\n",
       "    <tr>\n",
       "      <th>2022-07-06</th>\n",
       "      <td>20178.575235</td>\n",
       "    </tr>\n",
       "    <tr>\n",
       "      <th>2022-07-05</th>\n",
       "      <td>20188.779664</td>\n",
       "    </tr>\n",
       "    <tr>\n",
       "      <th>2022-07-04</th>\n",
       "      <td>20257.012329</td>\n",
       "    </tr>\n",
       "    <tr>\n",
       "      <th>2022-07-03</th>\n",
       "      <td>19310.233219</td>\n",
       "    </tr>\n",
       "    <tr>\n",
       "      <th>2022-07-02</th>\n",
       "      <td>19268.227003</td>\n",
       "    </tr>\n",
       "  </tbody>\n",
       "</table>\n",
       "</div>"
      ],
      "text/plain": [
       "                   Price\n",
       "2022-07-06  20178.575235\n",
       "2022-07-05  20188.779664\n",
       "2022-07-04  20257.012329\n",
       "2022-07-03  19310.233219\n",
       "2022-07-02  19268.227003"
      ]
     },
     "execution_count": 3,
     "metadata": {},
     "output_type": "execute_result"
    }
   ],
   "source": [
    "req = requests.get(\"https://api.coingecko.com/api/v3/coins/%s/market_chart?vs_currency=%s&days=%s&interval=daily\" % (crypto_id, vs_currency, days-1)) # Sending the request\n",
    "\n",
    "dates = pd.Series([date.today() - timedelta(days = day) for day in range(days)]) # Series of last 60 dates\n",
    "prices = pd.Series(reversed([price[1] for price in req.json()['prices']])) # Series of last 60 days prices\n",
    "# Cryptocurrency's DataFrame\n",
    "crypto_df = pd.DataFrame(\n",
    "    {\n",
    "        'Price':prices,\n",
    "    },\n",
    ")\n",
    "crypto_df.index = dates # Setting dates for df index\n",
    "crypto_df.head()"
   ]
  },
  {
   "cell_type": "code",
   "execution_count": 4,
   "id": "fc0fea25-6a85-45c9-910d-ecc0df5a2f22",
   "metadata": {},
   "outputs": [
    {
     "name": "stdout",
     "output_type": "stream",
     "text": [
      "Tomorrow's bitcoin price will probably be around 18966.940719116665\n"
     ]
    }
   ],
   "source": [
    "x = np.arange(1, 61).reshape(-1, 1) # Input (1 to 60)\n",
    "y = (np.array(crypto_df['Price']).reshape(-1, 1))[::-1] # Output (price)\n",
    "\n",
    "# Prediction\n",
    "prediction = LinearRegression()\n",
    "prediction.fit(x, y)\n",
    "tomorrow_price = prediction.predict([[61]])\n",
    "\n",
    "# Printing the prediction\n",
    "print(\"Tomorrow's %s price will probably be around %s\" % (crypto_id, tomorrow_price[0][0]))"
   ]
  },
  {
   "cell_type": "code",
   "execution_count": null,
   "id": "4dedf72b-7092-419f-80e6-36a05568efcb",
   "metadata": {},
   "outputs": [],
   "source": []
  }
 ],
 "metadata": {
  "kernelspec": {
   "display_name": "Python 3 (ipykernel)",
   "language": "python",
   "name": "python3"
  },
  "language_info": {
   "codemirror_mode": {
    "name": "ipython",
    "version": 3
   },
   "file_extension": ".py",
   "mimetype": "text/x-python",
   "name": "python",
   "nbconvert_exporter": "python",
   "pygments_lexer": "ipython3",
   "version": "3.8.10"
  }
 },
 "nbformat": 4,
 "nbformat_minor": 5
}
