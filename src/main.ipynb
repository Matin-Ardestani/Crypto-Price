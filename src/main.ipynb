{
 "cells": [
  {
   "cell_type": "code",
   "execution_count": null,
   "id": "40a1e3fa-5131-44ca-a481-a61950acd192",
   "metadata": {
    "tags": []
   },
   "outputs": [],
   "source": [
    "# Importing needed Packe\n",
    "import matplotlib.pyplot as plt\n",
    "from datetime import date, timedelta\n",
    "\n",
    "%matplotlib inlineges\n",
    "import requests\n",
    "import numpy as np\n",
    "import pandas as pd"
   ]
  },
  {
   "cell_type": "code",
   "execution_count": 65,
   "id": "0165fecf-edd7-4c40-b002-baf38fef1c26",
   "metadata": {},
   "outputs": [
    {
     "name": "stdin",
     "output_type": "stream",
     "text": [
      "Enter Id:  bitcoin\n",
      "Enter vs_currency:  usd\n",
      "Enter the number of how many days ago you want(e.g: 1,14,30):  10\n"
     ]
    }
   ],
   "source": [
    "# Getting cryptocurrency and vs_currency and days from the user\n",
    "crypto_id = input(\"Enter Id: \")\n",
    "vs_currency = input(\"Enter vs_currency: \")\n",
    "days = int(input(\"Enter the number of how many days ago you want(e.g: 1,14,30): \"))"
   ]
  },
  {
   "cell_type": "markdown",
   "id": "6f0b8584-a193-4885-88cc-0e85a795d8ae",
   "metadata": {
    "tags": []
   },
   "source": [
    "#### Showing cryptocurrency's date in a DataFrame"
   ]
  },
  {
   "cell_type": "code",
   "execution_count": 66,
   "id": "82d82540-9a1c-430f-83bb-c56a7457f279",
   "metadata": {},
   "outputs": [
    {
     "data": {
      "text/html": [
       "<div>\n",
       "<style scoped>\n",
       "    .dataframe tbody tr th:only-of-type {\n",
       "        vertical-align: middle;\n",
       "    }\n",
       "\n",
       "    .dataframe tbody tr th {\n",
       "        vertical-align: top;\n",
       "    }\n",
       "\n",
       "    .dataframe thead th {\n",
       "        text-align: right;\n",
       "    }\n",
       "</style>\n",
       "<table border=\"1\" class=\"dataframe\">\n",
       "  <thead>\n",
       "    <tr style=\"text-align: right;\">\n",
       "      <th></th>\n",
       "      <th>Price</th>\n",
       "      <th>Marker Caps</th>\n",
       "      <th>Total Volumes</th>\n",
       "    </tr>\n",
       "  </thead>\n",
       "  <tbody>\n",
       "    <tr>\n",
       "      <th>2022-07-06</th>\n",
       "      <td>20355.946383</td>\n",
       "      <td>3.873835e+11</td>\n",
       "      <td>2.457993e+10</td>\n",
       "    </tr>\n",
       "    <tr>\n",
       "      <th>2022-07-05</th>\n",
       "      <td>20257.012329</td>\n",
       "      <td>3.864252e+11</td>\n",
       "      <td>1.863486e+10</td>\n",
       "    </tr>\n",
       "    <tr>\n",
       "      <th>2022-07-04</th>\n",
       "      <td>19310.233219</td>\n",
       "      <td>3.685494e+11</td>\n",
       "      <td>1.397697e+10</td>\n",
       "    </tr>\n",
       "    <tr>\n",
       "      <th>2022-07-03</th>\n",
       "      <td>19268.227003</td>\n",
       "      <td>3.677067e+11</td>\n",
       "      <td>1.560172e+10</td>\n",
       "    </tr>\n",
       "    <tr>\n",
       "      <th>2022-07-02</th>\n",
       "      <td>19407.447430</td>\n",
       "      <td>3.709165e+11</td>\n",
       "      <td>2.875678e+10</td>\n",
       "    </tr>\n",
       "    <tr>\n",
       "      <th>2022-07-01</th>\n",
       "      <td>19608.397493</td>\n",
       "      <td>3.659842e+11</td>\n",
       "      <td>2.281652e+10</td>\n",
       "    </tr>\n",
       "    <tr>\n",
       "      <th>2022-06-30</th>\n",
       "      <td>20108.529473</td>\n",
       "      <td>3.840679e+11</td>\n",
       "      <td>2.074433e+10</td>\n",
       "    </tr>\n",
       "    <tr>\n",
       "      <th>2022-06-29</th>\n",
       "      <td>20282.542479</td>\n",
       "      <td>3.866069e+11</td>\n",
       "      <td>1.816121e+10</td>\n",
       "    </tr>\n",
       "    <tr>\n",
       "      <th>2022-06-28</th>\n",
       "      <td>20751.477531</td>\n",
       "      <td>3.959146e+11</td>\n",
       "      <td>1.771901e+10</td>\n",
       "    </tr>\n",
       "    <tr>\n",
       "      <th>2022-06-27</th>\n",
       "      <td>21052.805398</td>\n",
       "      <td>4.016458e+11</td>\n",
       "      <td>1.539270e+10</td>\n",
       "    </tr>\n",
       "  </tbody>\n",
       "</table>\n",
       "</div>"
      ],
      "text/plain": [
       "                   Price   Marker Caps  Total Volumes\n",
       "2022-07-06  20355.946383  3.873835e+11   2.457993e+10\n",
       "2022-07-05  20257.012329  3.864252e+11   1.863486e+10\n",
       "2022-07-04  19310.233219  3.685494e+11   1.397697e+10\n",
       "2022-07-03  19268.227003  3.677067e+11   1.560172e+10\n",
       "2022-07-02  19407.447430  3.709165e+11   2.875678e+10\n",
       "2022-07-01  19608.397493  3.659842e+11   2.281652e+10\n",
       "2022-06-30  20108.529473  3.840679e+11   2.074433e+10\n",
       "2022-06-29  20282.542479  3.866069e+11   1.816121e+10\n",
       "2022-06-28  20751.477531  3.959146e+11   1.771901e+10\n",
       "2022-06-27  21052.805398  4.016458e+11   1.539270e+10"
      ]
     },
     "execution_count": 66,
     "metadata": {},
     "output_type": "execute_result"
    }
   ],
   "source": [
    "req = requests.get(\"https://api.coingecko.com/api/v3/coins/%s/market_chart?vs_currency=%s&days=%s&interval=daily\" % (crypto_id, vs_currency, days-1)) # Sending the request\n",
    "\n",
    "dates = pd.Series([date.today() - timedelta(days = day) for day in range(days)]) # Series of last 10 dates\n",
    "prices = pd.Series(reversed([price[1] for price in req.json()['prices']])) # Series of last 10 days prices\n",
    "market_caps = pd.Series(reversed([mk[1] for mk in req.json()['market_caps']])) # Series of last 10 days marker caps\n",
    "total_volumes = pd.Series(reversed([tv[1] for tv in req.json()['total_volumes']])) # Series of last 10 days total volumes\n",
    "# Cryptocurrency's DataFrame\n",
    "crypto_df = pd.DataFrame(\n",
    "    {\n",
    "        'Price':prices,\n",
    "        'Marker Caps':market_caps,\n",
    "        'Total Volumes':total_volumes\n",
    "    },\n",
    ")\n",
    "crypto_df.index = dates\n",
    "crypto_df"
   ]
  },
  {
   "cell_type": "markdown",
   "id": "7b120fc2-15d2-44d9-8a1e-bd0194552222",
   "metadata": {
    "tags": []
   },
   "source": [
    "#### Showing cryptocurrency's data in Charts"
   ]
  },
  {
   "cell_type": "code",
   "execution_count": 72,
   "id": "c10fe3a1-9199-4c3b-acfd-7e957c4241e4",
   "metadata": {},
   "outputs": [
    {
     "name": "stdout",
     "output_type": "stream",
     "text": [
      "Choose your desire chart between the options(number):\n",
      "1. Plot\n",
      "2. Bar\n"
     ]
    },
    {
     "name": "stdin",
     "output_type": "stream",
     "text": [
      " 1\n"
     ]
    },
    {
     "data": {
      "text/plain": [
       "<Figure size 7200x1440 with 0 Axes>"
      ]
     },
     "metadata": {},
     "output_type": "display_data"
    },
    {
     "data": {
      "image/png": "[encoded data removed]",
      "text/plain": [
       "<Figure size 432x288 with 1 Axes>"
      ]
     },
     "metadata": {
      "needs_background": "light"
     },
     "output_type": "display_data"
    }
   ],
   "source": [
    "print(\"Choose your desire chart between the options(number):\")\n",
    "print(\"1. Plot\\n2. Bar\")\n",
    "chart = input(\"\")\n",
    "if chart == '1': # Plot\n",
    "    plt.figure(figsize=(100,20))\n",
    "    crypto_df.plot()"
   ]
  },
  {
   "cell_type": "code",
   "execution_count": null,
   "id": "4388cde4-f96f-41b9-ab0d-e2b04b4d6a99",
   "metadata": {},
   "outputs": [],
   "source": []
  }
 ],
 "metadata": {
  "kernelspec": {
   "display_name": "Python 3 (ipykernel)",
   "language": "python",
   "name": "python3"
  },
  "language_info": {
   "codemirror_mode": {
    "name": "ipython",
    "version": 3
   },
   "file_extension": ".py",
   "mimetype": "text/x-python",
   "name": "python",
   "nbconvert_exporter": "python",
   "pygments_lexer": "ipython3",
   "version": "3.8.10"
  }
 },
 "nbformat": 4,
 "nbformat_minor": 5
}
