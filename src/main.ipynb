{
 "cells": [
  {
   "cell_type": "code",
   "execution_count": 23,
   "id": "40a1e3fa-5131-44ca-a481-a61950acd192",
   "metadata": {
    "tags": []
   },
   "outputs": [],
   "source": [
    "# Importing needed Packeges\n",
    "import requests\n",
    "import numpy as np\n",
    "import pandas as pd\n",
    "from datetime import date, timedelta"
   ]
  },
  {
   "cell_type": "code",
   "execution_count": null,
   "id": "0165fecf-edd7-4c40-b002-baf38fef1c26",
   "metadata": {},
   "outputs": [
    {
     "name": "stdin",
     "output_type": "stream",
     "text": [
      "Enter Id:  bitcoin\n"
     ]
    }
   ],
   "source": [
    "# Getting cryptocurrency and vs_currency and days from the user\n",
    "crypto_id = input(\"Enter Id: \")\n",
    "vs_currency = input(\"Enter vs_currency: \")\n",
    "days = input(\"Enter the number of how many days ago you want(e.g: 1,14,30): \")"
   ]
  },
  {
   "cell_type": "code",
   "execution_count": 53,
   "id": "82d82540-9a1c-430f-83bb-c56a7457f279",
   "metadata": {},
   "outputs": [
    {
     "ename": "TypeError",
     "evalue": "unsupported operand type(s) for -: 'str' and 'int'",
     "output_type": "error",
     "traceback": [
      "\u001b[0;31m---------------------------------------------------------------------------\u001b[0m",
      "\u001b[0;31mTypeError\u001b[0m                                 Traceback (most recent call last)",
      "Input \u001b[0;32mIn [53]\u001b[0m, in \u001b[0;36m<module>\u001b[0;34m\u001b[0m\n\u001b[0;32m----> 1\u001b[0m req \u001b[38;5;241m=\u001b[39m requests\u001b[38;5;241m.\u001b[39mget(\u001b[38;5;124m\"\u001b[39m\u001b[38;5;124mhttps://api.coingecko.com/api/v3/coins/\u001b[39m\u001b[38;5;132;01m%s\u001b[39;00m\u001b[38;5;124m/market_chart?vs_currency=\u001b[39m\u001b[38;5;132;01m%s\u001b[39;00m\u001b[38;5;124m&days=\u001b[39m\u001b[38;5;132;01m%s\u001b[39;00m\u001b[38;5;124m&interval=daily\u001b[39m\u001b[38;5;124m\"\u001b[39m \u001b[38;5;241m%\u001b[39m (crypto_id, vs_currency, \u001b[43mdays\u001b[49m\u001b[38;5;241;43m-\u001b[39;49m\u001b[38;5;241;43m1\u001b[39;49m)) \u001b[38;5;66;03m# Sending the request\u001b[39;00m\n\u001b[1;32m      3\u001b[0m dates \u001b[38;5;241m=\u001b[39m pd\u001b[38;5;241m.\u001b[39mSeries([date\u001b[38;5;241m.\u001b[39mtoday() \u001b[38;5;241m-\u001b[39m timedelta(days \u001b[38;5;241m=\u001b[39m day) \u001b[38;5;28;01mfor\u001b[39;00m day \u001b[38;5;129;01min\u001b[39;00m \u001b[38;5;28mrange\u001b[39m(\u001b[38;5;241m10\u001b[39m)]) \u001b[38;5;66;03m# Series of last 10 dates\u001b[39;00m\n\u001b[1;32m      4\u001b[0m prices \u001b[38;5;241m=\u001b[39m pd\u001b[38;5;241m.\u001b[39mSeries(\u001b[38;5;28mreversed\u001b[39m([price[\u001b[38;5;241m1\u001b[39m] \u001b[38;5;28;01mfor\u001b[39;00m price \u001b[38;5;129;01min\u001b[39;00m req\u001b[38;5;241m.\u001b[39mjson()[\u001b[38;5;124m'\u001b[39m\u001b[38;5;124mprices\u001b[39m\u001b[38;5;124m'\u001b[39m]])) \u001b[38;5;66;03m# Series of last 10 days prices\u001b[39;00m\n",
      "\u001b[0;31mTypeError\u001b[0m: unsupported operand type(s) for -: 'str' and 'int'"
     ]
    }
   ],
   "source": [
    "req = requests.get(\"https://api.coingecko.com/api/v3/coins/%s/market_chart?vs_currency=%s&days=%s&interval=daily\" % (crypto_id, vs_currency, days-1)) # Sending the request\n",
    "\n",
    "dates = pd.Series([date.today() - timedelta(days = day) for day in range(10)]) # Series of last 10 dates\n",
    "prices = pd.Series(reversed([price[1] for price in req.json()['prices']])) # Series of last 10 days prices\n",
    "market_caps = pd.Series(reversed([mk[1] for mk in req.json()['market_caps']])) # Series of last 10 days marker caps\n",
    "total_volumes = pd.Series(reversed([tv[1] for tv in req.json()['total_volumes']])) # Series of last 10 days total volumes\n",
    "# Cryptocurrency's DataFrame\n",
    "crypto_df = pd.DataFrame(\n",
    "    {\n",
    "        'Price':prices,\n",
    "        'Marker Caps':market_caps,\n",
    "        'Total Volumes':total_volumes\n",
    "    },\n",
    ")\n",
    "crypto_df.index = dates\n",
    "crypto_df"
   ]
  },
  {
   "cell_type": "code",
   "execution_count": null,
   "id": "5428777b-0c33-4fb8-b088-31d508954058",
   "metadata": {},
   "outputs": [],
   "source": []
  }
 ],
 "metadata": {
  "kernelspec": {
   "display_name": "Python 3 (ipykernel)",
   "language": "python",
   "name": "python3"
  },
  "language_info": {
   "codemirror_mode": {
    "name": "ipython",
    "version": 3
   },
   "file_extension": ".py",
   "mimetype": "text/x-python",
   "name": "python",
   "nbconvert_exporter": "python",
   "pygments_lexer": "ipython3",
   "version": "3.8.10"
  }
 },
 "nbformat": 4,
 "nbformat_minor": 5
}
